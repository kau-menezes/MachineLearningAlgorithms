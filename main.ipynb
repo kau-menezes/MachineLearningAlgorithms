{
 "cells": [
  {
   "cell_type": "code",
   "execution_count": null,
   "metadata": {},
   "outputs": [
    {
     "name": "stdout",
     "output_type": "stream",
     "text": [
      "0.1388888888888889 0.65\n"
     ]
    }
   ],
   "source": [
    "import pandas as pd\n",
    "from joblib import dump\n",
    "\n",
    "from sklearn.metrics import mean_absolute_error\n",
    "from sklearn.model_selection import train_test_split\n",
    "from sklearn.tree import DecisionTreeClassifier\n",
    "from sklearn.preprocessing import LabelEncoder\n",
    "\n",
    "# to transform boolean and string columns to numeric values\n",
    "le = LabelEncoder()\n",
    "\n",
    "df = pd.read_csv(\"accident.csv\")\n",
    "df['Gender'] = le.fit_transform(df['Gender'])\n",
    "df['Helmet_Used'] = le.fit_transform(df['Helmet_Used'])\n",
    "df['Seatbelt_Used'] = le.fit_transform(df['Seatbelt_Used'])\n",
    "\n",
    "y = df['Survived']                  # column to be predicted\n",
    "x = df.drop('Survived', axis=1)     # whole df without prediction column\n",
    "\n",
    "X_train, X_test, Y_train, Y_test = train_test_split(x, y, test_size=0.10, random_state=42)\n",
    "\n",
    "\n",
    "model = DecisionTreeClassifier(\n",
    "    criterion=\"entropy\",\n",
    "    max_depth=20,\n",
    "    min_samples_split=10\n",
    ")\n",
    "\n",
    "model.fit(X_train, Y_train)\n",
    "\n",
    "# to save the model \n",
    "dump(model, 'model_dump.pkl')\n",
    "\n",
    "Y_real = Y_train\n",
    "Y_pred = model.predict(X_train)\n",
    "train_error = mean_absolute_error(Y_real, Y_pred)\n",
    "Y_real = Y_test\n",
    "Y_pred = model.predict(X_test)\n",
    "test_error = mean_absolute_error(Y_real, Y_pred)\n",
    "print(train_error, test_error) # 0.1388888888888889 0.65\n",
    "\n",
    "\n",
    "\n"
   ]
  },
  {
   "cell_type": "code",
   "execution_count": null,
   "metadata": {},
   "outputs": [],
   "source": [
    "import pandas as pd\n",
    "from joblib import dump\n",
    "\n",
    "from sklearn.preprocessing import LabelEncoder\n",
    "\n",
    "# to transform boolean and string columns to numeric values\n",
    "le = LabelEncoder()\n",
    "\n",
    "df = pd.read_csv(\"accident.csv\")\n",
    "df['Gender'] = le.fit_transform(df['Gender'])\n",
    "df['Helmet_Used'] = le.fit_transform(df['Helmet_Used'])\n",
    "df['Seatbelt_Used'] = le.fit_transform(df['Seatbelt_Used'])\n",
    "\n",
    "y = df['Survived']                  # column to be predicted\n",
    "x = df.drop('Survived', axis=1)     # whole df without prediction column\n",
    "\n",
    "\n"
   ]
  }
 ],
 "metadata": {
  "kernelspec": {
   "display_name": "Python 3",
   "language": "python",
   "name": "python3"
  },
  "language_info": {
   "codemirror_mode": {
    "name": "ipython",
    "version": 3
   },
   "file_extension": ".py",
   "mimetype": "text/x-python",
   "name": "python",
   "nbconvert_exporter": "python",
   "pygments_lexer": "ipython3",
   "version": "3.12.1"
  }
 },
 "nbformat": 4,
 "nbformat_minor": 2
}
