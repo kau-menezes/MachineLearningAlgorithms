{
 "cells": [
  {
   "cell_type": "markdown",
   "metadata": {},
   "source": [
    "- what is the difference between adding more layers or filters?\n",
    "- what is the impact of changing each of the params values?\n",
    "- what is an epoch?\n"
   ]
  },
  {
   "cell_type": "code",
   "execution_count": 1,
   "metadata": {},
   "outputs": [],
   "source": [
    "import os\n",
    "from tensorflow.keras import models, layers, activations, optimizers, utils, losses, initializers, metrics, callbacks "
   ]
  },
  {
   "cell_type": "code",
   "execution_count": 21,
   "metadata": {},
   "outputs": [],
   "source": [
    "path = 'train'\n",
    "epochs = 100\n",
    "batch_size = 32\n",
    "patience = 12\n",
    "learning_rate = 0.001 # alpha from sgd\n",
    "model_path = 'model.keras' # fro dump"
   ]
  },
  {
   "cell_type": "code",
   "execution_count": null,
   "metadata": {},
   "outputs": [],
   "source": [
    "\n",
    "\n",
    "model = models.Sequential([             # all layers connected - most simple one - used 99% of the time\n",
    "                           \n",
    "    layers.Resizing(56, 56),            # used to lower params by image -- may cause problems due to resizing as images do not lose data but computer may not understand different ratios\n",
    "    layers.Rescaling(1.0/255),          # values goes from 0-255 to 0.0-1.0 \n",
    "    layers.RandomRotation((-0.2, 0.2)),\n",
    "    \n",
    "    layers.Conv2D(32, (3, 3),           # 32 @ 54x54\n",
    "                  activation='relu',\n",
    "                  kernel_initializer=initializers.RandomNormal()\n",
    "    ),\n",
    "    \n",
    "    layers.MaxPooling2D((2, 2)),         # 32 @ 27x27\n",
    "    \n",
    "    layers.Conv2D(64, (3, 3),           # 32 @ 54x54\n",
    "                  activation='relu',\n",
    "                  kernel_initializer=initializers.RandomNormal()\n",
    "    ),\n",
    "    \n",
    "    layers.MaxPooling2D((2, 2)),         # 2048 @ 8x8\n",
    "    \n",
    "    layers.Flatten(),                   # ~125k params\n",
    "    \n",
    "    layers.Dropout(0.2),\n",
    "    \n",
    "    layers.Dense(128,\n",
    "                 activation='relu',\n",
    "                 kernel_initializer=initializers.RandomNormal()\n",
    "    ),\n",
    "    \n",
    "    layers.Dense(64,\n",
    "                 activation='relu',\n",
    "                 kernel_initializer=initializers.RandomNormal()\n",
    "    ),\n",
    "        \n",
    "    layers.Dense(64,\n",
    "                 activation='relu',\n",
    "                 kernel_initializer=initializers.RandomNormal()\n",
    "    ),\n",
    "    \n",
    "    layers.Dense(1,\n",
    "                 activations='sigmoid',\n",
    "                 kernel_initializer=initializers.RandomNormal()\n",
    "    ),\n",
    "]) \n",
    "\n"
   ]
  },
  {
   "cell_type": "code",
   "execution_count": 9,
   "metadata": {},
   "outputs": [],
   "source": [
    "model.compile(\n",
    "    optimizer=optimizers.Adam(\n",
    "        learning_rate=learning_rate\n",
    "    ),\n",
    "    loss=losses.BinaryCrossentropy(),\n",
    "    metrics=[metrics.BinaryAccuracy(), metrics.Precision(), metrics.Recall()]\n",
    ")"
   ]
  },
  {
   "cell_type": "code",
   "execution_count": 13,
   "metadata": {},
   "outputs": [
    {
     "name": "stdout",
     "output_type": "stream",
     "text": [
      "Found 11879 files belonging to 2 classes.\n",
      "Using 9504 files for training.\n"
     ]
    }
   ],
   "source": [
    "train = utils.image_dataset_from_directory(\n",
    "    path,\n",
    "    validation_split=0.2,\n",
    "    subset=\"training\",\n",
    "    shuffle=True,\n",
    "    seed=811,\n",
    "    image_size=(224, 224),\n",
    "    batch_size = batch_size\n",
    ")"
   ]
  },
  {
   "cell_type": "code",
   "execution_count": 15,
   "metadata": {},
   "outputs": [
    {
     "name": "stdout",
     "output_type": "stream",
     "text": [
      "Found 13879 files belonging to 2 classes.\n",
      "Using 2775 files for validation.\n"
     ]
    }
   ],
   "source": [
    "test = utils.image_dataset_from_directory(\n",
    "    path,\n",
    "    validation_split=0.2,\n",
    "    subset=\"validation\",\n",
    "    shuffle=True,\n",
    "    seed=811,\n",
    "    image_size=(224, 224),\n",
    "    batch_size = batch_size\n",
    ")"
   ]
  },
  {
   "cell_type": "code",
   "execution_count": 22,
   "metadata": {},
   "outputs": [
    {
     "name": "stdout",
     "output_type": "stream",
     "text": [
      "Epoch 1/100\n",
      "\u001b[1m297/297\u001b[0m \u001b[32m━━━━━━━━━━━━━━━━━━━━\u001b[0m\u001b[37m\u001b[0m \u001b[1m8s\u001b[0m 27ms/step - binary_accuracy: 0.9315 - loss: 0.1675 - precision: 0.9344 - recall: 0.9197 - val_binary_accuracy: 0.9117 - val_loss: 0.2472 - val_precision: 0.8873 - val_recall: 0.9379\n",
      "Epoch 2/100\n",
      "\u001b[1m297/297\u001b[0m \u001b[32m━━━━━━━━━━━━━━━━━━━━\u001b[0m\u001b[37m\u001b[0m \u001b[1m8s\u001b[0m 26ms/step - binary_accuracy: 0.9264 - loss: 0.1755 - precision: 0.9264 - recall: 0.9165 - val_binary_accuracy: 0.9070 - val_loss: 0.2374 - val_precision: 0.8935 - val_recall: 0.9186\n",
      "Epoch 3/100\n",
      "\u001b[1m297/297\u001b[0m \u001b[32m━━━━━━━━━━━━━━━━━━━━\u001b[0m\u001b[37m\u001b[0m \u001b[1m8s\u001b[0m 27ms/step - binary_accuracy: 0.9303 - loss: 0.1668 - precision: 0.9311 - recall: 0.9203 - val_binary_accuracy: 0.9099 - val_loss: 0.2477 - val_precision: 0.8970 - val_recall: 0.9209\n",
      "Epoch 4/100\n",
      "\u001b[1m297/297\u001b[0m \u001b[32m━━━━━━━━━━━━━━━━━━━━\u001b[0m\u001b[37m\u001b[0m \u001b[1m8s\u001b[0m 27ms/step - binary_accuracy: 0.9282 - loss: 0.1758 - precision: 0.9345 - recall: 0.9116 - val_binary_accuracy: 0.8933 - val_loss: 0.2517 - val_precision: 0.9151 - val_recall: 0.8609\n",
      "Epoch 5/100\n",
      "\u001b[1m297/297\u001b[0m \u001b[32m━━━━━━━━━━━━━━━━━━━━\u001b[0m\u001b[37m\u001b[0m \u001b[1m8s\u001b[0m 27ms/step - binary_accuracy: 0.9292 - loss: 0.1724 - precision: 0.9353 - recall: 0.9133 - val_binary_accuracy: 0.9124 - val_loss: 0.2427 - val_precision: 0.8902 - val_recall: 0.9357\n",
      "Epoch 6/100\n",
      "\u001b[1m297/297\u001b[0m \u001b[32m━━━━━━━━━━━━━━━━━━━━\u001b[0m\u001b[37m\u001b[0m \u001b[1m8s\u001b[0m 27ms/step - binary_accuracy: 0.9267 - loss: 0.1748 - precision: 0.9299 - recall: 0.9138 - val_binary_accuracy: 0.9085 - val_loss: 0.2304 - val_precision: 0.8855 - val_recall: 0.9327\n",
      "Epoch 7/100\n",
      "\u001b[1m297/297\u001b[0m \u001b[32m━━━━━━━━━━━━━━━━━━━━\u001b[0m\u001b[37m\u001b[0m \u001b[1m8s\u001b[0m 27ms/step - binary_accuracy: 0.9273 - loss: 0.1620 - precision: 0.9308 - recall: 0.9136 - val_binary_accuracy: 0.9009 - val_loss: 0.2797 - val_precision: 0.8822 - val_recall: 0.9194\n",
      "Epoch 8/100\n",
      "\u001b[1m297/297\u001b[0m \u001b[32m━━━━━━━━━━━━━━━━━━━━\u001b[0m\u001b[37m\u001b[0m \u001b[1m8s\u001b[0m 28ms/step - binary_accuracy: 0.9330 - loss: 0.1589 - precision: 0.9370 - recall: 0.9201 - val_binary_accuracy: 0.9139 - val_loss: 0.2370 - val_precision: 0.9006 - val_recall: 0.9253\n",
      "Epoch 9/100\n",
      "\u001b[1m297/297\u001b[0m \u001b[32m━━━━━━━━━━━━━━━━━━━━\u001b[0m\u001b[37m\u001b[0m \u001b[1m8s\u001b[0m 27ms/step - binary_accuracy: 0.9367 - loss: 0.1539 - precision: 0.9376 - recall: 0.9276 - val_binary_accuracy: 0.9110 - val_loss: 0.2437 - val_precision: 0.9157 - val_recall: 0.9001\n",
      "Epoch 10/100\n",
      "\u001b[1m297/297\u001b[0m \u001b[32m━━━━━━━━━━━━━━━━━━━━\u001b[0m\u001b[37m\u001b[0m \u001b[1m8s\u001b[0m 28ms/step - binary_accuracy: 0.9366 - loss: 0.1507 - precision: 0.9415 - recall: 0.9228 - val_binary_accuracy: 0.9081 - val_loss: 0.2572 - val_precision: 0.9054 - val_recall: 0.9061\n",
      "Epoch 11/100\n",
      "\u001b[1m297/297\u001b[0m \u001b[32m━━━━━━━━━━━━━━━━━━━━\u001b[0m\u001b[37m\u001b[0m \u001b[1m8s\u001b[0m 28ms/step - binary_accuracy: 0.9377 - loss: 0.1523 - precision: 0.9396 - recall: 0.9276 - val_binary_accuracy: 0.9085 - val_loss: 0.2389 - val_precision: 0.9061 - val_recall: 0.9061\n",
      "Epoch 12/100\n",
      "\u001b[1m297/297\u001b[0m \u001b[32m━━━━━━━━━━━━━━━━━━━━\u001b[0m\u001b[37m\u001b[0m \u001b[1m8s\u001b[0m 28ms/step - binary_accuracy: 0.9351 - loss: 0.1572 - precision: 0.9345 - recall: 0.9279 - val_binary_accuracy: 0.9088 - val_loss: 0.2379 - val_precision: 0.8928 - val_recall: 0.9238\n",
      "Epoch 13/100\n",
      "\u001b[1m297/297\u001b[0m \u001b[32m━━━━━━━━━━━━━━━━━━━━\u001b[0m\u001b[37m\u001b[0m \u001b[1m9s\u001b[0m 31ms/step - binary_accuracy: 0.9409 - loss: 0.1444 - precision: 0.9409 - recall: 0.9327 - val_binary_accuracy: 0.9146 - val_loss: 0.2532 - val_precision: 0.9031 - val_recall: 0.9238\n",
      "Epoch 14/100\n",
      "\u001b[1m297/297\u001b[0m \u001b[32m━━━━━━━━━━━━━━━━━━━━\u001b[0m\u001b[37m\u001b[0m \u001b[1m8s\u001b[0m 28ms/step - binary_accuracy: 0.9440 - loss: 0.1368 - precision: 0.9435 - recall: 0.9379 - val_binary_accuracy: 0.9157 - val_loss: 0.2458 - val_precision: 0.9092 - val_recall: 0.9186\n",
      "Epoch 15/100\n",
      "\u001b[1m297/297\u001b[0m \u001b[32m━━━━━━━━━━━━━━━━━━━━\u001b[0m\u001b[37m\u001b[0m \u001b[1m8s\u001b[0m 28ms/step - binary_accuracy: 0.9444 - loss: 0.1397 - precision: 0.9453 - recall: 0.9366 - val_binary_accuracy: 0.9146 - val_loss: 0.2291 - val_precision: 0.8934 - val_recall: 0.9364\n",
      "Epoch 16/100\n",
      "\u001b[1m297/297\u001b[0m \u001b[32m━━━━━━━━━━━━━━━━━━━━\u001b[0m\u001b[37m\u001b[0m \u001b[1m8s\u001b[0m 27ms/step - binary_accuracy: 0.9431 - loss: 0.1397 - precision: 0.9455 - recall: 0.9335 - val_binary_accuracy: 0.9103 - val_loss: 0.2713 - val_precision: 0.8849 - val_recall: 0.9379\n",
      "Epoch 17/100\n",
      "\u001b[1m297/297\u001b[0m \u001b[32m━━━━━━━━━━━━━━━━━━━━\u001b[0m\u001b[37m\u001b[0m \u001b[1m8s\u001b[0m 28ms/step - binary_accuracy: 0.9450 - loss: 0.1358 - precision: 0.9422 - recall: 0.9410 - val_binary_accuracy: 0.9106 - val_loss: 0.2487 - val_precision: 0.8887 - val_recall: 0.9334\n",
      "Epoch 18/100\n",
      "\u001b[1m297/297\u001b[0m \u001b[32m━━━━━━━━━━━━━━━━━━━━\u001b[0m\u001b[37m\u001b[0m \u001b[1m8s\u001b[0m 28ms/step - binary_accuracy: 0.9489 - loss: 0.1231 - precision: 0.9486 - recall: 0.9430 - val_binary_accuracy: 0.9088 - val_loss: 0.2478 - val_precision: 0.9002 - val_recall: 0.9142\n",
      "Epoch 19/100\n",
      "\u001b[1m297/297\u001b[0m \u001b[32m━━━━━━━━━━━━━━━━━━━━\u001b[0m\u001b[37m\u001b[0m \u001b[1m8s\u001b[0m 28ms/step - binary_accuracy: 0.9470 - loss: 0.1241 - precision: 0.9468 - recall: 0.9409 - val_binary_accuracy: 0.9063 - val_loss: 0.2775 - val_precision: 0.9050 - val_recall: 0.9024\n",
      "Epoch 20/100\n",
      "\u001b[1m297/297\u001b[0m \u001b[32m━━━━━━━━━━━━━━━━━━━━\u001b[0m\u001b[37m\u001b[0m \u001b[1m10s\u001b[0m 32ms/step - binary_accuracy: 0.9427 - loss: 0.1374 - precision: 0.9486 - recall: 0.9285 - val_binary_accuracy: 0.9139 - val_loss: 0.2610 - val_precision: 0.8799 - val_recall: 0.9534\n",
      "Epoch 21/100\n",
      "\u001b[1m297/297\u001b[0m \u001b[32m━━━━━━━━━━━━━━━━━━━━\u001b[0m\u001b[37m\u001b[0m \u001b[1m9s\u001b[0m 31ms/step - binary_accuracy: 0.9502 - loss: 0.1232 - precision: 0.9534 - recall: 0.9407 - val_binary_accuracy: 0.9124 - val_loss: 0.2727 - val_precision: 0.8870 - val_recall: 0.9401\n",
      "Epoch 22/100\n",
      "\u001b[1m297/297\u001b[0m \u001b[32m━━━━━━━━━━━━━━━━━━━━\u001b[0m\u001b[37m\u001b[0m \u001b[1m10s\u001b[0m 33ms/step - binary_accuracy: 0.9549 - loss: 0.1191 - precision: 0.9567 - recall: 0.9472 - val_binary_accuracy: 0.9041 - val_loss: 0.2844 - val_precision: 0.8610 - val_recall: 0.9578\n",
      "Epoch 23/100\n",
      "\u001b[1m297/297\u001b[0m \u001b[32m━━━━━━━━━━━━━━━━━━━━\u001b[0m\u001b[37m\u001b[0m \u001b[1m9s\u001b[0m 29ms/step - binary_accuracy: 0.9494 - loss: 0.1245 - precision: 0.9498 - recall: 0.9427 - val_binary_accuracy: 0.9160 - val_loss: 0.2517 - val_precision: 0.9017 - val_recall: 0.9290\n",
      "Epoch 24/100\n",
      "\u001b[1m297/297\u001b[0m \u001b[32m━━━━━━━━━━━━━━━━━━━━\u001b[0m\u001b[37m\u001b[0m \u001b[1m9s\u001b[0m 29ms/step - binary_accuracy: 0.9482 - loss: 0.1302 - precision: 0.9516 - recall: 0.9378 - val_binary_accuracy: 0.9095 - val_loss: 0.2765 - val_precision: 0.8820 - val_recall: 0.9401\n",
      "Epoch 25/100\n",
      "\u001b[1m297/297\u001b[0m \u001b[32m━━━━━━━━━━━━━━━━━━━━\u001b[0m\u001b[37m\u001b[0m \u001b[1m9s\u001b[0m 30ms/step - binary_accuracy: 0.9561 - loss: 0.1151 - precision: 0.9581 - recall: 0.9484 - val_binary_accuracy: 0.9142 - val_loss: 0.2560 - val_precision: 0.8895 - val_recall: 0.9408\n",
      "Epoch 26/100\n",
      "\u001b[1m297/297\u001b[0m \u001b[32m━━━━━━━━━━━━━━━━━━━━\u001b[0m\u001b[37m\u001b[0m \u001b[1m9s\u001b[0m 30ms/step - binary_accuracy: 0.9468 - loss: 0.1276 - precision: 0.9491 - recall: 0.9382 - val_binary_accuracy: 0.9099 - val_loss: 0.2792 - val_precision: 0.8941 - val_recall: 0.9246\n",
      "Epoch 27/100\n",
      "\u001b[1m297/297\u001b[0m \u001b[32m━━━━━━━━━━━━━━━━━━━━\u001b[0m\u001b[37m\u001b[0m \u001b[1m9s\u001b[0m 29ms/step - binary_accuracy: 0.9575 - loss: 0.1141 - precision: 0.9610 - recall: 0.9485 - val_binary_accuracy: 0.9074 - val_loss: 0.2854 - val_precision: 0.8848 - val_recall: 0.9312\n",
      "Epoch 27: early stopping\n"
     ]
    },
    {
     "data": {
      "text/plain": [
       "<keras.src.callbacks.history.History at 0x27c38668d70>"
      ]
     },
     "execution_count": 22,
     "metadata": {},
     "output_type": "execute_result"
    }
   ],
   "source": [
    "model.fit(\n",
    "    train, \n",
    "    validation_data=test,\n",
    "    epochs=epochs,\n",
    "    callbacks = [\n",
    "        callbacks.EarlyStopping(\n",
    "            monitor='val_loss',\n",
    "            patience=patience,\n",
    "            verbose=1\n",
    "        ),\n",
    "        callbacks.ModelCheckpoint(\n",
    "            filepath = model_path,\n",
    "            save_weights_only=False,\n",
    "            monitor=\"loss\",\n",
    "            mode=\"min\",\n",
    "            save_best_only=True\n",
    "        )\n",
    "    ]\n",
    ")"
   ]
  }
 ],
 "metadata": {
  "kernelspec": {
   "display_name": "Python 3",
   "language": "python",
   "name": "python3"
  },
  "language_info": {
   "codemirror_mode": {
    "name": "ipython",
    "version": 3
   },
   "file_extension": ".py",
   "mimetype": "text/x-python",
   "name": "python",
   "nbconvert_exporter": "python",
   "pygments_lexer": "ipython3",
   "version": "3.12.1"
  }
 },
 "nbformat": 4,
 "nbformat_minor": 2
}
