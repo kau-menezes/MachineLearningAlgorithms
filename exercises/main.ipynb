{
 "cells": [
  {
   "cell_type": "code",
   "execution_count": 20,
   "metadata": {},
   "outputs": [],
   "source": [
    "# imports\n",
    "import pandas as pd\n",
    "from joblib import dump, load\n",
    "from sklearn.model_selection import train_test_split"
   ]
  },
  {
   "cell_type": "code",
   "execution_count": null,
   "metadata": {},
   "outputs": [],
   "source": [
    "#already trained model\n",
    "model = load(\"bacterial_infection.pkl\")"
   ]
  },
  {
   "cell_type": "code",
   "execution_count": null,
   "metadata": {},
   "outputs": [],
   "source": [
    "from sklearn.tree import DecisionTreeRegressor\n",
    "\n",
    "\n",
    "model = DecisionTreeRegressor(\n",
    "    max_depth=200,\n",
    "    min_samples_split=40\n",
    ")"
   ]
  },
  {
   "cell_type": "code",
   "execution_count": 25,
   "metadata": {},
   "outputs": [],
   "source": [
    "from sklearn.tree import DecisionTreeClassifier\n",
    "\n",
    "\n",
    "model = DecisionTreeClassifier(\n",
    "    criterion=\"entropy\",\n",
    "    max_depth=20,\n",
    "    min_samples_split=10\n",
    ")"
   ]
  },
  {
   "cell_type": "code",
   "execution_count": 9,
   "metadata": {},
   "outputs": [
    {
     "name": "stdout",
     "output_type": "stream",
     "text": [
      "Train error: 0.07146264053509307\n",
      "Test error: 0.10005697573564193\n",
      "\n",
      "Underfitting Risks\n"
     ]
    }
   ],
   "source": [
    "# regression algorithm - bacterial infection in water sample\n",
    "from sklearn.metrics import mean_absolute_error\n",
    "\n",
    "df = pd.read_csv(\"waterQuality1.csv\")\n",
    "df = df.loc[~(df == \"#NUM!\").any(axis=True)]\n",
    "\n",
    "Y = df[\"bacteria\"]\n",
    "X = df.drop(columns=[\"bacteria\"], axis=1)\n",
    "\n",
    "X_train, X_test, Y_train, Y_test = train_test_split(X, Y, test_size=0.20, random_state=42)\n",
    "\n",
    "model.fit(X_train, Y_train)\n",
    "\n",
    "dump(model, \"bacterial_infection.pkl\")\n",
    "\n",
    "Y_pred = model.predict(X_train)\n",
    "train_error = mean_absolute_error(Y_train, Y_pred)\n",
    "\n",
    "Y_pred = model.predict(X_test)\n",
    "test_error = mean_absolute_error(Y_test, Y_pred)\n",
    "\n",
    "print(f\"Train error: {train_error}\\nTest error: {test_error}\\n\") #0.07146264053509307 0.10000649496641117\n",
    "print(f\"Overfitting Risks\" if test_error - train_error > 1 else \"Underfitting Risks\")"
   ]
  },
  {
   "cell_type": "code",
   "execution_count": 30,
   "metadata": {},
   "outputs": [
    {
     "name": "stdout",
     "output_type": "stream",
     "text": [
      "Best Parameters: {'criterion': 'entropy', 'max_depth': 10, 'min_samples_leaf': 1, 'min_samples_split': 5}\n",
      "Train error: 0.9851469668542839\n",
      "Test error: 0.96125\n",
      "\n"
     ]
    }
   ],
   "source": [
    "from sklearn.metrics import accuracy_score\n",
    "from sklearn.model_selection import GridSearchCV\n",
    "\n",
    "# df.replace(\"#NUM!\", pd.NA, inplace=True)     # TypeError: float() argument must be a string or a real number, not 'NAType'\n",
    "# df.dropna()\n",
    "\n",
    "df = pd.read_csv(\"waterQuality1.csv\")\n",
    "df = df.loc[~(df == \"#NUM!\").any(axis=True)]\n",
    "\n",
    "Y = df[\"is_safe\"]\n",
    "X = df.drop(columns=[\"is_safe\"], axis=1)\n",
    "\n",
    "param_grid = {\n",
    "    \"max_depth\": [3, 5, 10, None],  \n",
    "    \"min_samples_split\": [2, 5, 10], \n",
    "    \"min_samples_leaf\": [1, 2, 5],  \n",
    "    \"criterion\": [\"gini\", \"entropy\", \"log_loss\"]  # mathmetical strategy\n",
    "}\n",
    "\n",
    "est = DecisionTreeClassifier(random_state=42)\n",
    "\n",
    "grid_search = GridSearchCV(\n",
    "    estimator=est,\n",
    "    param_grid=param_grid,\n",
    "    scoring=\"accuracy\",  # metrics\n",
    "    cv=5,  \n",
    "    n_jobs=-1  # use all available CPU cores\n",
    ")\n",
    "\n",
    "X_train, X_test, Y_train, Y_test = train_test_split(X, Y, test_size=0.20, random_state=42)\n",
    "\n",
    "grid_search.fit(X_train, Y_train)\n",
    "\n",
    "best_params = grid_search.best_params_\n",
    "best_model = grid_search.best_estimator_\n",
    "\n",
    "print(\"Best Parameters:\", best_params)\n",
    "\n",
    "dump(model, \"water_safety.pkl\")\n",
    "\n",
    "Y_pred = best_model.predict(X_train)\n",
    "train_accuracy = accuracy_score(Y_train, Y_pred)\n",
    "\n",
    "Y_pred = best_model.predict(X_test)\n",
    "test_accuracy = accuracy_score(Y_test, Y_pred)\n",
    "\n",
    "print(f\"Train error: {train_accuracy}\\nTest error: {test_accuracy}\\n\") #Train error: 0.9909318323952471 #Test error: 0.963125\n",
    "\n"
   ]
  },
  {
   "cell_type": "code",
   "execution_count": 32,
   "metadata": {},
   "outputs": [
    {
     "data": {
      "image/png": "[encoded data removed]",
      "text/plain": [
       "<Figure size 600x500 with 2 Axes>"
      ]
     },
     "metadata": {},
     "output_type": "display_data"
    }
   ],
   "source": [
    "from matplotlib import pyplot as plt\n",
    "from sklearn.metrics import confusion_matrix\n",
    "import seaborn as sns\n",
    "import numpy as np\n",
    "\n",
    "cm = confusion_matrix(Y_test, Y_pred)\n",
    "\n",
    "plt.figure(figsize=(6, 5))\n",
    "sns.heatmap(cm, annot=True, fmt='d', cmap='Blues', xticklabels=np.unique(Y_test), yticklabels=np.unique(Y_test))\n",
    "plt.xlabel(\"Predicted Label\")\n",
    "plt.ylabel(\"True Label\")\n",
    "plt.title(\"Confusion Matrix\")\n",
    "plt.show()"
   ]
  },
  {
   "cell_type": "code",
   "execution_count": 28,
   "metadata": {},
   "outputs": [
    {
     "name": "stdout",
     "output_type": "stream",
     "text": [
      "is_safe\n",
      "0    7084\n",
      "1     912\n",
      "Name: count, dtype: int64\n"
     ]
    }
   ],
   "source": [
    "counts = df[\"is_safe\"].value_counts()\n",
    "print(counts)"
   ]
  }
 ],
 "metadata": {
  "kernelspec": {
   "display_name": "Python 3",
   "language": "python",
   "name": "python3"
  },
  "language_info": {
   "codemirror_mode": {
    "name": "ipython",
    "version": 3
   },
   "file_extension": ".py",
   "mimetype": "text/x-python",
   "name": "python",
   "nbconvert_exporter": "python",
   "pygments_lexer": "ipython3",
   "version": "3.12.1"
  }
 },
 "nbformat": 4,
 "nbformat_minor": 2
}
