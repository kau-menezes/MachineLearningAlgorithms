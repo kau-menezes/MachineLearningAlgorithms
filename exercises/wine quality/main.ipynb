{
 "cells": [
  {
   "cell_type": "code",
   "execution_count": 1,
   "metadata": {},
   "outputs": [],
   "source": [
    "# imports\n",
    "\n",
    "import pandas as pd\n",
    "from joblib import dump, load\n",
    "from sklearn.model_selection import train_test_split"
   ]
  },
  {
   "cell_type": "code",
   "execution_count": null,
   "metadata": {},
   "outputs": [],
   "source": [
    "# inicial dataframe\n",
    "\n",
    "df = pd.read_csv(\"winequality-red.csv\")\n",
    "dump_model = \"wine_quality.pkl\"\n",
    "df"
   ]
  },
  {
   "cell_type": "code",
   "execution_count": 3,
   "metadata": {},
   "outputs": [],
   "source": [
    "# model definition\n",
    "\n",
    "from sklearn.tree import DecisionTreeRegressor\n",
    "\n",
    "model = DecisionTreeRegressor( # Versão do Desicion Tree de Regressão\n",
    "    max_depth=200,\n",
    "    min_samples_split=40\n",
    ")\n"
   ]
  },
  {
   "cell_type": "code",
   "execution_count": 4,
   "metadata": {},
   "outputs": [],
   "source": [
    "# data cleaning and objective setting\n",
    "\n",
    "Y = df[\"quality\"]\n",
    "X = df.drop(columns=[\"quality\"], axis=1)\n",
    "\n",
    "X_train, X_test, Y_train, Y_test = train_test_split(X, Y, test_size=0.20, random_state=42)"
   ]
  },
  {
   "cell_type": "code",
   "execution_count": 5,
   "metadata": {},
   "outputs": [
    {
     "data": {
      "text/plain": [
       "['wine_quality.pkl']"
      ]
     },
     "execution_count": 5,
     "metadata": {},
     "output_type": "execute_result"
    }
   ],
   "source": [
    "# model training\n",
    "\n",
    "model.fit(X_train, Y_train)\n",
    "dump(model, dump_model)\n"
   ]
  },
  {
   "cell_type": "code",
   "execution_count": 6,
   "metadata": {},
   "outputs": [
    {
     "name": "stdout",
     "output_type": "stream",
     "text": [
      "0.35660933746779644 0.5022834221119821\n"
     ]
    }
   ],
   "source": [
    "# prediction\n",
    "\n",
    "from sklearn.metrics import mean_absolute_error\n",
    "\n",
    "Y_pred = model.predict(X_train)\n",
    "train_error = mean_absolute_error(Y_train, Y_pred)\n",
    "\n",
    "Y_pred = model.predict(X_test)\n",
    "test_error = mean_absolute_error(Y_test, Y_pred)\n",
    "print(train_error, test_error) "
   ]
  }
 ],
 "metadata": {
  "kernelspec": {
   "display_name": "Python 3",
   "language": "python",
   "name": "python3"
  },
  "language_info": {
   "codemirror_mode": {
    "name": "ipython",
    "version": 3
   },
   "file_extension": ".py",
   "mimetype": "text/x-python",
   "name": "python",
   "nbconvert_exporter": "python",
   "pygments_lexer": "ipython3",
   "version": "3.12.1"
  }
 },
 "nbformat": 4,
 "nbformat_minor": 2
}
